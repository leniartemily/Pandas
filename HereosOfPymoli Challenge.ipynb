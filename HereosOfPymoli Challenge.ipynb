{
 "cells": [
  {
   "cell_type": "code",
   "execution_count": 1,
   "metadata": {},
   "outputs": [],
   "source": [
    "#dependencies and setup\n",
    "import pandas as pd\n",
    "import os\n",
    "import numpy as np"
   ]
  },
  {
   "cell_type": "code",
   "execution_count": 2,
   "metadata": {},
   "outputs": [
    {
     "data": {
      "text/html": [
       "<div>\n",
       "<style scoped>\n",
       "    .dataframe tbody tr th:only-of-type {\n",
       "        vertical-align: middle;\n",
       "    }\n",
       "\n",
       "    .dataframe tbody tr th {\n",
       "        vertical-align: top;\n",
       "    }\n",
       "\n",
       "    .dataframe thead th {\n",
       "        text-align: right;\n",
       "    }\n",
       "</style>\n",
       "<table border=\"1\" class=\"dataframe\">\n",
       "  <thead>\n",
       "    <tr style=\"text-align: right;\">\n",
       "      <th></th>\n",
       "      <th>Purchase ID</th>\n",
       "      <th>SN</th>\n",
       "      <th>Age</th>\n",
       "      <th>Gender</th>\n",
       "      <th>Item ID</th>\n",
       "      <th>Item Name</th>\n",
       "      <th>Price</th>\n",
       "    </tr>\n",
       "  </thead>\n",
       "  <tbody>\n",
       "    <tr>\n",
       "      <th>0</th>\n",
       "      <td>0</td>\n",
       "      <td>Lisim78</td>\n",
       "      <td>20</td>\n",
       "      <td>Male</td>\n",
       "      <td>108</td>\n",
       "      <td>Extraction, Quickblade Of Trembling Hands</td>\n",
       "      <td>3.53</td>\n",
       "    </tr>\n",
       "    <tr>\n",
       "      <th>1</th>\n",
       "      <td>1</td>\n",
       "      <td>Lisovynya38</td>\n",
       "      <td>40</td>\n",
       "      <td>Male</td>\n",
       "      <td>143</td>\n",
       "      <td>Frenzied Scimitar</td>\n",
       "      <td>1.56</td>\n",
       "    </tr>\n",
       "    <tr>\n",
       "      <th>2</th>\n",
       "      <td>2</td>\n",
       "      <td>Ithergue48</td>\n",
       "      <td>24</td>\n",
       "      <td>Male</td>\n",
       "      <td>92</td>\n",
       "      <td>Final Critic</td>\n",
       "      <td>4.88</td>\n",
       "    </tr>\n",
       "    <tr>\n",
       "      <th>3</th>\n",
       "      <td>3</td>\n",
       "      <td>Chamassasya86</td>\n",
       "      <td>24</td>\n",
       "      <td>Male</td>\n",
       "      <td>100</td>\n",
       "      <td>Blindscythe</td>\n",
       "      <td>3.27</td>\n",
       "    </tr>\n",
       "    <tr>\n",
       "      <th>4</th>\n",
       "      <td>4</td>\n",
       "      <td>Iskosia90</td>\n",
       "      <td>23</td>\n",
       "      <td>Male</td>\n",
       "      <td>131</td>\n",
       "      <td>Fury</td>\n",
       "      <td>1.44</td>\n",
       "    </tr>\n",
       "    <tr>\n",
       "      <th>...</th>\n",
       "      <td>...</td>\n",
       "      <td>...</td>\n",
       "      <td>...</td>\n",
       "      <td>...</td>\n",
       "      <td>...</td>\n",
       "      <td>...</td>\n",
       "      <td>...</td>\n",
       "    </tr>\n",
       "    <tr>\n",
       "      <th>775</th>\n",
       "      <td>775</td>\n",
       "      <td>Aethedru70</td>\n",
       "      <td>21</td>\n",
       "      <td>Female</td>\n",
       "      <td>60</td>\n",
       "      <td>Wolf</td>\n",
       "      <td>3.54</td>\n",
       "    </tr>\n",
       "    <tr>\n",
       "      <th>776</th>\n",
       "      <td>776</td>\n",
       "      <td>Iral74</td>\n",
       "      <td>21</td>\n",
       "      <td>Male</td>\n",
       "      <td>164</td>\n",
       "      <td>Exiled Doomblade</td>\n",
       "      <td>1.63</td>\n",
       "    </tr>\n",
       "    <tr>\n",
       "      <th>777</th>\n",
       "      <td>777</td>\n",
       "      <td>Yathecal72</td>\n",
       "      <td>20</td>\n",
       "      <td>Male</td>\n",
       "      <td>67</td>\n",
       "      <td>Celeste, Incarnation of the Corrupted</td>\n",
       "      <td>3.46</td>\n",
       "    </tr>\n",
       "    <tr>\n",
       "      <th>778</th>\n",
       "      <td>778</td>\n",
       "      <td>Sisur91</td>\n",
       "      <td>7</td>\n",
       "      <td>Male</td>\n",
       "      <td>92</td>\n",
       "      <td>Final Critic</td>\n",
       "      <td>4.19</td>\n",
       "    </tr>\n",
       "    <tr>\n",
       "      <th>779</th>\n",
       "      <td>779</td>\n",
       "      <td>Ennrian78</td>\n",
       "      <td>24</td>\n",
       "      <td>Male</td>\n",
       "      <td>50</td>\n",
       "      <td>Dawn</td>\n",
       "      <td>4.60</td>\n",
       "    </tr>\n",
       "  </tbody>\n",
       "</table>\n",
       "<p>780 rows × 7 columns</p>\n",
       "</div>"
      ],
      "text/plain": [
       "     Purchase ID             SN  Age  Gender  Item ID  \\\n",
       "0              0        Lisim78   20    Male      108   \n",
       "1              1    Lisovynya38   40    Male      143   \n",
       "2              2     Ithergue48   24    Male       92   \n",
       "3              3  Chamassasya86   24    Male      100   \n",
       "4              4      Iskosia90   23    Male      131   \n",
       "..           ...            ...  ...     ...      ...   \n",
       "775          775     Aethedru70   21  Female       60   \n",
       "776          776         Iral74   21    Male      164   \n",
       "777          777     Yathecal72   20    Male       67   \n",
       "778          778        Sisur91    7    Male       92   \n",
       "779          779      Ennrian78   24    Male       50   \n",
       "\n",
       "                                     Item Name  Price  \n",
       "0    Extraction, Quickblade Of Trembling Hands   3.53  \n",
       "1                            Frenzied Scimitar   1.56  \n",
       "2                                 Final Critic   4.88  \n",
       "3                                  Blindscythe   3.27  \n",
       "4                                         Fury   1.44  \n",
       "..                                         ...    ...  \n",
       "775                                       Wolf   3.54  \n",
       "776                           Exiled Doomblade   1.63  \n",
       "777      Celeste, Incarnation of the Corrupted   3.46  \n",
       "778                               Final Critic   4.19  \n",
       "779                                       Dawn   4.60  \n",
       "\n",
       "[780 rows x 7 columns]"
      ]
     },
     "execution_count": 2,
     "metadata": {},
     "output_type": "execute_result"
    }
   ],
   "source": [
    "#Read CSV and store into Pandas df\n",
    "purchase_df = pd.read_csv('Resources/purchase_data.csv')\n",
    "purchase_df"
   ]
  },
  {
   "cell_type": "code",
   "execution_count": null,
   "metadata": {
    "scrolled": false
   },
   "outputs": [],
   "source": []
  },
  {
   "cell_type": "code",
   "execution_count": 3,
   "metadata": {
    "scrolled": true
   },
   "outputs": [
    {
     "data": {
      "text/plain": [
       "576"
      ]
     },
     "execution_count": 3,
     "metadata": {},
     "output_type": "execute_result"
    }
   ],
   "source": [
    "##Display the total number of players\n",
    "total_players = len(purchase_df[\"SN\"].unique())\n",
    "total_players"
   ]
  },
  {
   "cell_type": "code",
   "execution_count": 4,
   "metadata": {},
   "outputs": [
    {
     "data": {
      "text/html": [
       "<div>\n",
       "<style scoped>\n",
       "    .dataframe tbody tr th:only-of-type {\n",
       "        vertical-align: middle;\n",
       "    }\n",
       "\n",
       "    .dataframe tbody tr th {\n",
       "        vertical-align: top;\n",
       "    }\n",
       "\n",
       "    .dataframe thead th {\n",
       "        text-align: right;\n",
       "    }\n",
       "</style>\n",
       "<table border=\"1\" class=\"dataframe\">\n",
       "  <thead>\n",
       "    <tr style=\"text-align: right;\">\n",
       "      <th></th>\n",
       "      <th>Total Players</th>\n",
       "    </tr>\n",
       "  </thead>\n",
       "  <tbody>\n",
       "    <tr>\n",
       "      <th>0</th>\n",
       "      <td>576</td>\n",
       "    </tr>\n",
       "  </tbody>\n",
       "</table>\n",
       "</div>"
      ],
      "text/plain": [
       "   Total Players\n",
       "0            576"
      ]
     },
     "execution_count": 4,
     "metadata": {},
     "output_type": "execute_result"
    }
   ],
   "source": [
    "total_players = pd.DataFrame({\"Total Players\":[total_players]})\n",
    "total_players"
   ]
  },
  {
   "cell_type": "code",
   "execution_count": 5,
   "metadata": {},
   "outputs": [],
   "source": [
    "## Purchasing Analysis (Total)"
   ]
  },
  {
   "cell_type": "code",
   "execution_count": 6,
   "metadata": {
    "scrolled": true
   },
   "outputs": [
    {
     "data": {
      "text/plain": [
       "179"
      ]
     },
     "execution_count": 6,
     "metadata": {},
     "output_type": "execute_result"
    }
   ],
   "source": [
    "#Run basic calculations to obtain number of unique items, average price, etc.\n",
    "unique_items = len(purchase_df[\"Item Name\"].unique())\n",
    "unique_items             "
   ]
  },
  {
   "cell_type": "code",
   "execution_count": 7,
   "metadata": {},
   "outputs": [
    {
     "data": {
      "text/plain": [
       "3.050987179487176"
      ]
     },
     "execution_count": 7,
     "metadata": {},
     "output_type": "execute_result"
    }
   ],
   "source": [
    "average_price = purchase_df[\"Price\"].mean()\n",
    "average_price"
   ]
  },
  {
   "cell_type": "code",
   "execution_count": 8,
   "metadata": {},
   "outputs": [
    {
     "data": {
      "text/plain": [
       "780"
      ]
     },
     "execution_count": 8,
     "metadata": {},
     "output_type": "execute_result"
    }
   ],
   "source": [
    "number_of_purchases = purchase_df[\"SN\"].count()\n",
    "number_of_purchases"
   ]
  },
  {
   "cell_type": "code",
   "execution_count": 9,
   "metadata": {},
   "outputs": [
    {
     "data": {
      "text/plain": [
       "2379.77"
      ]
     },
     "execution_count": 9,
     "metadata": {},
     "output_type": "execute_result"
    }
   ],
   "source": [
    "total_revenue = purchase_df[\"Price\"].sum()\n",
    "total_revenue"
   ]
  },
  {
   "cell_type": "code",
   "execution_count": 10,
   "metadata": {},
   "outputs": [
    {
     "data": {
      "text/html": [
       "<style  type=\"text/css\" >\n",
       "</style><table id=\"T_832c2664_aa10_11eb_b0da_0c5415c9b4df\" ><thead>    <tr>        <th class=\"blank level0\" ></th>        <th class=\"col_heading level0 col0\" >Number of Unique Items</th>        <th class=\"col_heading level0 col1\" >Average Price</th>        <th class=\"col_heading level0 col2\" >Number of Purchases</th>        <th class=\"col_heading level0 col3\" >Total Revenue</th>    </tr></thead><tbody>\n",
       "                <tr>\n",
       "                        <th id=\"T_832c2664_aa10_11eb_b0da_0c5415c9b4dflevel0_row0\" class=\"row_heading level0 row0\" >0</th>\n",
       "                        <td id=\"T_832c2664_aa10_11eb_b0da_0c5415c9b4dfrow0_col0\" class=\"data row0 col0\" >179</td>\n",
       "                        <td id=\"T_832c2664_aa10_11eb_b0da_0c5415c9b4dfrow0_col1\" class=\"data row0 col1\" >$3.05</td>\n",
       "                        <td id=\"T_832c2664_aa10_11eb_b0da_0c5415c9b4dfrow0_col2\" class=\"data row0 col2\" >780</td>\n",
       "                        <td id=\"T_832c2664_aa10_11eb_b0da_0c5415c9b4dfrow0_col3\" class=\"data row0 col3\" >$2,379.77</td>\n",
       "            </tr>\n",
       "    </tbody></table>"
      ],
      "text/plain": [
       "<pandas.io.formats.style.Styler at 0x1dceed8b7c0>"
      ]
     },
     "execution_count": 10,
     "metadata": {},
     "output_type": "execute_result"
    }
   ],
   "source": [
    "summary_df = pd.DataFrame({\"Number of Unique Items\":[unique_items],\n",
    "                          \"Average Price\":[average_price],\n",
    "                          \"Number of Purchases\":[number_of_purchases],\n",
    "                          \"Total Revenue\":[total_revenue] })\n",
    "summary_df.style.format({'Average Price':\"${:,.2f}\",\n",
    "                         'Total Revenue': '${:,.2f}'})"
   ]
  },
  {
   "cell_type": "code",
   "execution_count": 11,
   "metadata": {},
   "outputs": [],
   "source": [
    "### Gender Demographics"
   ]
  },
  {
   "cell_type": "code",
   "execution_count": 12,
   "metadata": {},
   "outputs": [],
   "source": [
    "gender_stats = purchase_df.groupby(\"Gender\")\n"
   ]
  },
  {
   "cell_type": "code",
   "execution_count": 13,
   "metadata": {
    "scrolled": true
   },
   "outputs": [
    {
     "data": {
      "text/plain": [
       "Gender\n",
       "Female                   14.062500\n",
       "Male                     84.027778\n",
       "Other / Non-Disclosed     1.909722\n",
       "Name: SN, dtype: float64"
      ]
     },
     "execution_count": 13,
     "metadata": {},
     "output_type": "execute_result"
    }
   ],
   "source": [
    "total_players = len(purchase_df[\"SN\"].unique().tolist())\n",
    "total_players\n",
    "\n",
    "gender_data=(purchase_df.groupby('Gender').nunique())[\"SN\"]\n",
    "gender_data\n",
    "\n",
    "gender_per = gender_data / total_players * 100\n",
    "gender_per\n"
   ]
  },
  {
   "cell_type": "code",
   "execution_count": 14,
   "metadata": {
    "scrolled": false
   },
   "outputs": [
    {
     "data": {
      "text/html": [
       "<style  type=\"text/css\" >\n",
       "</style><table id=\"T_835a436f_aa10_11eb_ac49_0c5415c9b4df\" ><thead>    <tr>        <th class=\"blank level0\" ></th>        <th class=\"col_heading level0 col0\" >Percent of Players</th>        <th class=\"col_heading level0 col1\" >Total Count</th>    </tr>    <tr>        <th class=\"index_name level0\" >Gender</th>        <th class=\"blank\" ></th>        <th class=\"blank\" ></th>    </tr></thead><tbody>\n",
       "                <tr>\n",
       "                        <th id=\"T_835a436f_aa10_11eb_ac49_0c5415c9b4dflevel0_row0\" class=\"row_heading level0 row0\" >Female</th>\n",
       "                        <td id=\"T_835a436f_aa10_11eb_ac49_0c5415c9b4dfrow0_col0\" class=\"data row0 col0\" >14.06%</td>\n",
       "                        <td id=\"T_835a436f_aa10_11eb_ac49_0c5415c9b4dfrow0_col1\" class=\"data row0 col1\" >81</td>\n",
       "            </tr>\n",
       "            <tr>\n",
       "                        <th id=\"T_835a436f_aa10_11eb_ac49_0c5415c9b4dflevel0_row1\" class=\"row_heading level0 row1\" >Male</th>\n",
       "                        <td id=\"T_835a436f_aa10_11eb_ac49_0c5415c9b4dfrow1_col0\" class=\"data row1 col0\" >84.03%</td>\n",
       "                        <td id=\"T_835a436f_aa10_11eb_ac49_0c5415c9b4dfrow1_col1\" class=\"data row1 col1\" >484</td>\n",
       "            </tr>\n",
       "            <tr>\n",
       "                        <th id=\"T_835a436f_aa10_11eb_ac49_0c5415c9b4dflevel0_row2\" class=\"row_heading level0 row2\" >Other / Non-Disclosed</th>\n",
       "                        <td id=\"T_835a436f_aa10_11eb_ac49_0c5415c9b4dfrow2_col0\" class=\"data row2 col0\" >1.91%</td>\n",
       "                        <td id=\"T_835a436f_aa10_11eb_ac49_0c5415c9b4dfrow2_col1\" class=\"data row2 col1\" >11</td>\n",
       "            </tr>\n",
       "    </tbody></table>"
      ],
      "text/plain": [
       "<pandas.io.formats.style.Styler at 0x1dcefef89a0>"
      ]
     },
     "execution_count": 14,
     "metadata": {},
     "output_type": "execute_result"
    }
   ],
   "source": [
    "gender_stats = pd.DataFrame({\"Percent of Players\": gender_per,\n",
    "                                   \"Total Count\": gender_data})\n",
    "gender_stats = gender_stats.style.format({\"Percent of Players\":\"{:,.2f}%\"})\n",
    "\n",
    "gender_stats"
   ]
  },
  {
   "cell_type": "code",
   "execution_count": 15,
   "metadata": {},
   "outputs": [],
   "source": [
    "# Purchasing Analysis (Gender)"
   ]
  },
  {
   "cell_type": "code",
   "execution_count": 16,
   "metadata": {},
   "outputs": [],
   "source": [
    "#recall \"genderStats\"\n",
    "gender_stats = purchase_df.groupby(\"Gender\")\n"
   ]
  },
  {
   "cell_type": "code",
   "execution_count": 17,
   "metadata": {},
   "outputs": [
    {
     "data": {
      "text/html": [
       "<style  type=\"text/css\" >\n",
       "</style><table id=\"T_837af2e3_aa10_11eb_9e8a_0c5415c9b4df\" ><thead>    <tr>        <th class=\"blank level0\" ></th>        <th class=\"col_heading level0 col0\" >Purchase Count</th>        <th class=\"col_heading level0 col1\" >Average Purchase Price</th>        <th class=\"col_heading level0 col2\" >Average Purchase Value</th>        <th class=\"col_heading level0 col3\" >Avg Purchase Total per Person</th>    </tr>    <tr>        <th class=\"index_name level0\" >Gender</th>        <th class=\"blank\" ></th>        <th class=\"blank\" ></th>        <th class=\"blank\" ></th>        <th class=\"blank\" ></th>    </tr></thead><tbody>\n",
       "                <tr>\n",
       "                        <th id=\"T_837af2e3_aa10_11eb_9e8a_0c5415c9b4dflevel0_row0\" class=\"row_heading level0 row0\" >Female</th>\n",
       "                        <td id=\"T_837af2e3_aa10_11eb_9e8a_0c5415c9b4dfrow0_col0\" class=\"data row0 col0\" >113</td>\n",
       "                        <td id=\"T_837af2e3_aa10_11eb_9e8a_0c5415c9b4dfrow0_col1\" class=\"data row0 col1\" >$3.20</td>\n",
       "                        <td id=\"T_837af2e3_aa10_11eb_9e8a_0c5415c9b4dfrow0_col2\" class=\"data row0 col2\" >$361.94</td>\n",
       "                        <td id=\"T_837af2e3_aa10_11eb_9e8a_0c5415c9b4dfrow0_col3\" class=\"data row0 col3\" >$0.63</td>\n",
       "            </tr>\n",
       "            <tr>\n",
       "                        <th id=\"T_837af2e3_aa10_11eb_9e8a_0c5415c9b4dflevel0_row1\" class=\"row_heading level0 row1\" >Male</th>\n",
       "                        <td id=\"T_837af2e3_aa10_11eb_9e8a_0c5415c9b4dfrow1_col0\" class=\"data row1 col0\" >652</td>\n",
       "                        <td id=\"T_837af2e3_aa10_11eb_9e8a_0c5415c9b4dfrow1_col1\" class=\"data row1 col1\" >$3.02</td>\n",
       "                        <td id=\"T_837af2e3_aa10_11eb_9e8a_0c5415c9b4dfrow1_col2\" class=\"data row1 col2\" >$1,967.64</td>\n",
       "                        <td id=\"T_837af2e3_aa10_11eb_9e8a_0c5415c9b4dfrow1_col3\" class=\"data row1 col3\" >$3.42</td>\n",
       "            </tr>\n",
       "            <tr>\n",
       "                        <th id=\"T_837af2e3_aa10_11eb_9e8a_0c5415c9b4dflevel0_row2\" class=\"row_heading level0 row2\" >Other / Non-Disclosed</th>\n",
       "                        <td id=\"T_837af2e3_aa10_11eb_9e8a_0c5415c9b4dfrow2_col0\" class=\"data row2 col0\" >15</td>\n",
       "                        <td id=\"T_837af2e3_aa10_11eb_9e8a_0c5415c9b4dfrow2_col1\" class=\"data row2 col1\" >$3.35</td>\n",
       "                        <td id=\"T_837af2e3_aa10_11eb_9e8a_0c5415c9b4dfrow2_col2\" class=\"data row2 col2\" >$50.19</td>\n",
       "                        <td id=\"T_837af2e3_aa10_11eb_9e8a_0c5415c9b4dfrow2_col3\" class=\"data row2 col3\" >$0.09</td>\n",
       "            </tr>\n",
       "    </tbody></table>"
      ],
      "text/plain": [
       "<pandas.io.formats.style.Styler at 0x1dceff03a90>"
      ]
     },
     "execution_count": 17,
     "metadata": {},
     "output_type": "execute_result"
    }
   ],
   "source": [
    "purchase_count = gender_stats[\"Purchase ID\"].count()\n",
    "purchase_count\n",
    "\n",
    "# Average purchase prices by gender\n",
    "avg_price = gender_stats[\"Price\"].mean()\n",
    "avg_price\n",
    "\n",
    "# Average purchase total by gender \n",
    "avg_purchase_total = gender_stats[\"Price\"].sum()\n",
    "avg_purchase_total\n",
    "\n",
    "# Average purchase total by gender divivded by total players\n",
    "avg_per_person = avg_purchase_total/total_players\n",
    "\n",
    "# Create data frame with obtained values \n",
    "gender_demographics = pd.DataFrame({\"Purchase Count\": purchase_count, \n",
    "                                    \"Average Purchase Price\": avg_price,\n",
    "                                    \"Average Purchase Value\":avg_purchase_total,\n",
    "                                    \"Avg Purchase Total per Person\": avg_per_person})\n",
    "\n",
    "# Optional: give the displayed data cleaner formatting\n",
    "# Display the summary data frame\n",
    "gender_demographics.index.name = \"Gender\"\n",
    "\n",
    "# Format with currency style\n",
    "gender_demographics.style.format({\"Average Purchase Value\":\"${:,.2f}\",\n",
    "                                  \"Average Purchase Price\":\"${:,.2f}\",\n",
    "                                  \"Avg Purchase Total per Person\":\"${:,.2f}\"})"
   ]
  },
  {
   "cell_type": "code",
   "execution_count": 18,
   "metadata": {},
   "outputs": [],
   "source": [
    "# Age Demographics\n"
   ]
  },
  {
   "cell_type": "code",
   "execution_count": 19,
   "metadata": {},
   "outputs": [],
   "source": [
    "# Establish bins for ages\n",
    "\n",
    "ages_bin = [0, 9, 14, 19, 24, 29, 34, 39, 100]\n",
    "categories = [\"<10\", \"10-14\", \"15-19\", \"20-24\", \"25-29\", \"30-34\", \"35-39\", \"40+\"]"
   ]
  },
  {
   "cell_type": "code",
   "execution_count": 20,
   "metadata": {},
   "outputs": [
    {
     "data": {
      "text/html": [
       "<style  type=\"text/css\" >\n",
       "</style><table id=\"T_839cf998_aa10_11eb_bc3d_0c5415c9b4df\" ><thead>    <tr>        <th class=\"blank level0\" ></th>        <th class=\"col_heading level0 col0\" >Total Count</th>        <th class=\"col_heading level0 col1\" >Percentage of Players</th>    </tr></thead><tbody>\n",
       "                <tr>\n",
       "                        <th id=\"T_839cf998_aa10_11eb_bc3d_0c5415c9b4dflevel0_row0\" class=\"row_heading level0 row0\" ><10</th>\n",
       "                        <td id=\"T_839cf998_aa10_11eb_bc3d_0c5415c9b4dfrow0_col0\" class=\"data row0 col0\" >17</td>\n",
       "                        <td id=\"T_839cf998_aa10_11eb_bc3d_0c5415c9b4dfrow0_col1\" class=\"data row0 col1\" >2.95</td>\n",
       "            </tr>\n",
       "            <tr>\n",
       "                        <th id=\"T_839cf998_aa10_11eb_bc3d_0c5415c9b4dflevel0_row1\" class=\"row_heading level0 row1\" >10-14</th>\n",
       "                        <td id=\"T_839cf998_aa10_11eb_bc3d_0c5415c9b4dfrow1_col0\" class=\"data row1 col0\" >22</td>\n",
       "                        <td id=\"T_839cf998_aa10_11eb_bc3d_0c5415c9b4dfrow1_col1\" class=\"data row1 col1\" >3.82</td>\n",
       "            </tr>\n",
       "            <tr>\n",
       "                        <th id=\"T_839cf998_aa10_11eb_bc3d_0c5415c9b4dflevel0_row2\" class=\"row_heading level0 row2\" >15-19</th>\n",
       "                        <td id=\"T_839cf998_aa10_11eb_bc3d_0c5415c9b4dfrow2_col0\" class=\"data row2 col0\" >107</td>\n",
       "                        <td id=\"T_839cf998_aa10_11eb_bc3d_0c5415c9b4dfrow2_col1\" class=\"data row2 col1\" >18.58</td>\n",
       "            </tr>\n",
       "            <tr>\n",
       "                        <th id=\"T_839cf998_aa10_11eb_bc3d_0c5415c9b4dflevel0_row3\" class=\"row_heading level0 row3\" >20-24</th>\n",
       "                        <td id=\"T_839cf998_aa10_11eb_bc3d_0c5415c9b4dfrow3_col0\" class=\"data row3 col0\" >258</td>\n",
       "                        <td id=\"T_839cf998_aa10_11eb_bc3d_0c5415c9b4dfrow3_col1\" class=\"data row3 col1\" >44.79</td>\n",
       "            </tr>\n",
       "            <tr>\n",
       "                        <th id=\"T_839cf998_aa10_11eb_bc3d_0c5415c9b4dflevel0_row4\" class=\"row_heading level0 row4\" >25-29</th>\n",
       "                        <td id=\"T_839cf998_aa10_11eb_bc3d_0c5415c9b4dfrow4_col0\" class=\"data row4 col0\" >77</td>\n",
       "                        <td id=\"T_839cf998_aa10_11eb_bc3d_0c5415c9b4dfrow4_col1\" class=\"data row4 col1\" >13.37</td>\n",
       "            </tr>\n",
       "            <tr>\n",
       "                        <th id=\"T_839cf998_aa10_11eb_bc3d_0c5415c9b4dflevel0_row5\" class=\"row_heading level0 row5\" >30-34</th>\n",
       "                        <td id=\"T_839cf998_aa10_11eb_bc3d_0c5415c9b4dfrow5_col0\" class=\"data row5 col0\" >52</td>\n",
       "                        <td id=\"T_839cf998_aa10_11eb_bc3d_0c5415c9b4dfrow5_col1\" class=\"data row5 col1\" >9.03</td>\n",
       "            </tr>\n",
       "            <tr>\n",
       "                        <th id=\"T_839cf998_aa10_11eb_bc3d_0c5415c9b4dflevel0_row6\" class=\"row_heading level0 row6\" >35-39</th>\n",
       "                        <td id=\"T_839cf998_aa10_11eb_bc3d_0c5415c9b4dfrow6_col0\" class=\"data row6 col0\" >31</td>\n",
       "                        <td id=\"T_839cf998_aa10_11eb_bc3d_0c5415c9b4dfrow6_col1\" class=\"data row6 col1\" >5.38</td>\n",
       "            </tr>\n",
       "            <tr>\n",
       "                        <th id=\"T_839cf998_aa10_11eb_bc3d_0c5415c9b4dflevel0_row7\" class=\"row_heading level0 row7\" >40+</th>\n",
       "                        <td id=\"T_839cf998_aa10_11eb_bc3d_0c5415c9b4dfrow7_col0\" class=\"data row7 col0\" >12</td>\n",
       "                        <td id=\"T_839cf998_aa10_11eb_bc3d_0c5415c9b4dfrow7_col1\" class=\"data row7 col1\" >2.08</td>\n",
       "            </tr>\n",
       "    </tbody></table>"
      ],
      "text/plain": [
       "<pandas.io.formats.style.Styler at 0x1dceff0cbe0>"
      ]
     },
     "execution_count": 20,
     "metadata": {},
     "output_type": "execute_result"
    }
   ],
   "source": [
    "# Categorize the existing players using the age bins. Hint: use pd.cut()\n",
    "purchase_df[\"Age Groups\"] = pd.cut(purchase_df[\"Age\"],ages_bin, labels=categories)\n",
    "purchase_df\n",
    "\n",
    "# Calculate the numbers and percentages by age group\n",
    "age_groups = purchase_df.groupby(\"Age Groups\")\n",
    "\n",
    "total_age = age_groups[\"SN\"].nunique()\n",
    "\n",
    "Percent_by_age = (total_age/total_players)*100\n",
    "\n",
    "# Create a summary data frame to hold the results\n",
    "age_demo = pd.DataFrame({\"Total Count\": total_age,\n",
    "                         \"Percentage of Players\":Percent_by_age})\n",
    "age_demo.index.name = None\n",
    "\n",
    "age_demo.style.format({\"Percentage of Players\":\"{:,.2f}\"})"
   ]
  },
  {
   "cell_type": "code",
   "execution_count": 21,
   "metadata": {},
   "outputs": [],
   "source": [
    "# Purchasing Analysis (Age)\n",
    "# Bin the purchase_data data frame by age\n",
    "# Run basic calculations to obtain purchase count, avg. purchase price, avg. purchase total per person etc. in the table below\n",
    "# Create a summary data frame to hold the results\n",
    "# Optional: give the displayed data cleaner formatting\n",
    "# Display the summary data frame"
   ]
  },
  {
   "cell_type": "code",
   "execution_count": 22,
   "metadata": {},
   "outputs": [],
   "source": [
    "# Establish bins for ages\n",
    "\n",
    "ages_bin = [0, 9, 14, 19, 24, 29, 34, 39, 100]\n",
    "categories = [\"<10\", \"10-14\", \"15-19\", \"20-24\", \"25-29\", \"30-34\", \"35-39\", \"40+\"]\n"
   ]
  },
  {
   "cell_type": "code",
   "execution_count": 23,
   "metadata": {},
   "outputs": [
    {
     "data": {
      "text/html": [
       "<style  type=\"text/css\" >\n",
       "</style><table id=\"T_83c5c149_aa10_11eb_a856_0c5415c9b4df\" ><thead>    <tr>        <th class=\"blank level0\" ></th>        <th class=\"col_heading level0 col0\" >Purchase Count</th>        <th class=\"col_heading level0 col1\" >Average Purchase Price</th>        <th class=\"col_heading level0 col2\" >Total Purchase Value</th>        <th class=\"col_heading level0 col3\" >Average Purchase Total per Person</th>    </tr></thead><tbody>\n",
       "                <tr>\n",
       "                        <th id=\"T_83c5c149_aa10_11eb_a856_0c5415c9b4dflevel0_row0\" class=\"row_heading level0 row0\" ><10</th>\n",
       "                        <td id=\"T_83c5c149_aa10_11eb_a856_0c5415c9b4dfrow0_col0\" class=\"data row0 col0\" >23</td>\n",
       "                        <td id=\"T_83c5c149_aa10_11eb_a856_0c5415c9b4dfrow0_col1\" class=\"data row0 col1\" >$3.35</td>\n",
       "                        <td id=\"T_83c5c149_aa10_11eb_a856_0c5415c9b4dfrow0_col2\" class=\"data row0 col2\" >$77.13</td>\n",
       "                        <td id=\"T_83c5c149_aa10_11eb_a856_0c5415c9b4dfrow0_col3\" class=\"data row0 col3\" >$4.54</td>\n",
       "            </tr>\n",
       "            <tr>\n",
       "                        <th id=\"T_83c5c149_aa10_11eb_a856_0c5415c9b4dflevel0_row1\" class=\"row_heading level0 row1\" >10-14</th>\n",
       "                        <td id=\"T_83c5c149_aa10_11eb_a856_0c5415c9b4dfrow1_col0\" class=\"data row1 col0\" >28</td>\n",
       "                        <td id=\"T_83c5c149_aa10_11eb_a856_0c5415c9b4dfrow1_col1\" class=\"data row1 col1\" >$2.96</td>\n",
       "                        <td id=\"T_83c5c149_aa10_11eb_a856_0c5415c9b4dfrow1_col2\" class=\"data row1 col2\" >$82.78</td>\n",
       "                        <td id=\"T_83c5c149_aa10_11eb_a856_0c5415c9b4dfrow1_col3\" class=\"data row1 col3\" >$3.76</td>\n",
       "            </tr>\n",
       "            <tr>\n",
       "                        <th id=\"T_83c5c149_aa10_11eb_a856_0c5415c9b4dflevel0_row2\" class=\"row_heading level0 row2\" >15-19</th>\n",
       "                        <td id=\"T_83c5c149_aa10_11eb_a856_0c5415c9b4dfrow2_col0\" class=\"data row2 col0\" >136</td>\n",
       "                        <td id=\"T_83c5c149_aa10_11eb_a856_0c5415c9b4dfrow2_col1\" class=\"data row2 col1\" >$3.04</td>\n",
       "                        <td id=\"T_83c5c149_aa10_11eb_a856_0c5415c9b4dfrow2_col2\" class=\"data row2 col2\" >$412.89</td>\n",
       "                        <td id=\"T_83c5c149_aa10_11eb_a856_0c5415c9b4dfrow2_col3\" class=\"data row2 col3\" >$3.86</td>\n",
       "            </tr>\n",
       "            <tr>\n",
       "                        <th id=\"T_83c5c149_aa10_11eb_a856_0c5415c9b4dflevel0_row3\" class=\"row_heading level0 row3\" >20-24</th>\n",
       "                        <td id=\"T_83c5c149_aa10_11eb_a856_0c5415c9b4dfrow3_col0\" class=\"data row3 col0\" >365</td>\n",
       "                        <td id=\"T_83c5c149_aa10_11eb_a856_0c5415c9b4dfrow3_col1\" class=\"data row3 col1\" >$3.05</td>\n",
       "                        <td id=\"T_83c5c149_aa10_11eb_a856_0c5415c9b4dfrow3_col2\" class=\"data row3 col2\" >$1,114.06</td>\n",
       "                        <td id=\"T_83c5c149_aa10_11eb_a856_0c5415c9b4dfrow3_col3\" class=\"data row3 col3\" >$4.32</td>\n",
       "            </tr>\n",
       "            <tr>\n",
       "                        <th id=\"T_83c5c149_aa10_11eb_a856_0c5415c9b4dflevel0_row4\" class=\"row_heading level0 row4\" >25-29</th>\n",
       "                        <td id=\"T_83c5c149_aa10_11eb_a856_0c5415c9b4dfrow4_col0\" class=\"data row4 col0\" >101</td>\n",
       "                        <td id=\"T_83c5c149_aa10_11eb_a856_0c5415c9b4dfrow4_col1\" class=\"data row4 col1\" >$2.90</td>\n",
       "                        <td id=\"T_83c5c149_aa10_11eb_a856_0c5415c9b4dfrow4_col2\" class=\"data row4 col2\" >$293.00</td>\n",
       "                        <td id=\"T_83c5c149_aa10_11eb_a856_0c5415c9b4dfrow4_col3\" class=\"data row4 col3\" >$3.81</td>\n",
       "            </tr>\n",
       "            <tr>\n",
       "                        <th id=\"T_83c5c149_aa10_11eb_a856_0c5415c9b4dflevel0_row5\" class=\"row_heading level0 row5\" >30-34</th>\n",
       "                        <td id=\"T_83c5c149_aa10_11eb_a856_0c5415c9b4dfrow5_col0\" class=\"data row5 col0\" >73</td>\n",
       "                        <td id=\"T_83c5c149_aa10_11eb_a856_0c5415c9b4dfrow5_col1\" class=\"data row5 col1\" >$2.93</td>\n",
       "                        <td id=\"T_83c5c149_aa10_11eb_a856_0c5415c9b4dfrow5_col2\" class=\"data row5 col2\" >$214.00</td>\n",
       "                        <td id=\"T_83c5c149_aa10_11eb_a856_0c5415c9b4dfrow5_col3\" class=\"data row5 col3\" >$4.12</td>\n",
       "            </tr>\n",
       "            <tr>\n",
       "                        <th id=\"T_83c5c149_aa10_11eb_a856_0c5415c9b4dflevel0_row6\" class=\"row_heading level0 row6\" >35-39</th>\n",
       "                        <td id=\"T_83c5c149_aa10_11eb_a856_0c5415c9b4dfrow6_col0\" class=\"data row6 col0\" >41</td>\n",
       "                        <td id=\"T_83c5c149_aa10_11eb_a856_0c5415c9b4dfrow6_col1\" class=\"data row6 col1\" >$3.60</td>\n",
       "                        <td id=\"T_83c5c149_aa10_11eb_a856_0c5415c9b4dfrow6_col2\" class=\"data row6 col2\" >$147.67</td>\n",
       "                        <td id=\"T_83c5c149_aa10_11eb_a856_0c5415c9b4dfrow6_col3\" class=\"data row6 col3\" >$4.76</td>\n",
       "            </tr>\n",
       "            <tr>\n",
       "                        <th id=\"T_83c5c149_aa10_11eb_a856_0c5415c9b4dflevel0_row7\" class=\"row_heading level0 row7\" >40+</th>\n",
       "                        <td id=\"T_83c5c149_aa10_11eb_a856_0c5415c9b4dfrow7_col0\" class=\"data row7 col0\" >13</td>\n",
       "                        <td id=\"T_83c5c149_aa10_11eb_a856_0c5415c9b4dfrow7_col1\" class=\"data row7 col1\" >$2.94</td>\n",
       "                        <td id=\"T_83c5c149_aa10_11eb_a856_0c5415c9b4dfrow7_col2\" class=\"data row7 col2\" >$38.24</td>\n",
       "                        <td id=\"T_83c5c149_aa10_11eb_a856_0c5415c9b4dfrow7_col3\" class=\"data row7 col3\" >$3.19</td>\n",
       "            </tr>\n",
       "    </tbody></table>"
      ],
      "text/plain": [
       "<pandas.io.formats.style.Styler at 0x1dcefef8820>"
      ]
     },
     "execution_count": 23,
     "metadata": {},
     "output_type": "execute_result"
    }
   ],
   "source": [
    "# Count purchases by age group\n",
    "purchase_count_age = age_groups[\"Purchase ID\"].count()\n",
    "\n",
    "# Obtain average purchase price by age group \n",
    "avg_purchase_price_age = age_groups[\"Price\"].mean()\n",
    "\n",
    "# Calculate total purchase value by age group \n",
    "total_purchase_value = age_groups[\"Price\"].sum()\n",
    "\n",
    "# Calculate the average purchase per person in the age group \n",
    "avg_purchase_per_person_age = total_purchase_value/total_age\n",
    "\n",
    "# Create data frame with obtained values\n",
    "age_demo = pd.DataFrame({\"Purchase Count\": purchase_count_age,\n",
    "                                 \"Average Purchase Price\": avg_purchase_price_age,\n",
    "                                 \"Total Purchase Value\":total_purchase_value,\n",
    "                                 \"Average Purchase Total per Person\": avg_purchase_per_person_age})\n",
    "\n",
    "# Format the data frame with no index name in the corner\n",
    "age_demo.index.name = None\n",
    "\n",
    "# Format with currency style\n",
    "age_demo.style.format({\"Average Purchase Price\":\"${:,.2f}\",\n",
    "                               \"Total Purchase Value\":\"${:,.2f}\",\n",
    "                               \"Average Purchase Total per Person\":\"${:,.2f}\"})"
   ]
  },
  {
   "cell_type": "code",
   "execution_count": 24,
   "metadata": {},
   "outputs": [],
   "source": [
    "# Top Spenders"
   ]
  },
  {
   "cell_type": "code",
   "execution_count": 25,
   "metadata": {},
   "outputs": [
    {
     "data": {
      "text/plain": [
       "<pandas.core.groupby.generic.DataFrameGroupBy object at 0x000001DCEED70CD0>"
      ]
     },
     "execution_count": 25,
     "metadata": {},
     "output_type": "execute_result"
    }
   ],
   "source": [
    "# Group purchase data by sn\n",
    "spender_stats = purchase_df.groupby(\"SN\")\n",
    "spender_stats"
   ]
  },
  {
   "cell_type": "code",
   "execution_count": 26,
   "metadata": {},
   "outputs": [
    {
     "data": {
      "text/plain": [
       "SN\n",
       "Adairialis76     1\n",
       "Adastirin33      1\n",
       "Aeda94           1\n",
       "Aela59           1\n",
       "Aelaria33        1\n",
       "                ..\n",
       "Yathecal82       3\n",
       "Yathedeu43       2\n",
       "Yoishirrala98    1\n",
       "Zhisrisu83       2\n",
       "Zontibe81        3\n",
       "Name: Purchase ID, Length: 576, dtype: int64"
      ]
     },
     "execution_count": 26,
     "metadata": {},
     "output_type": "execute_result"
    }
   ],
   "source": [
    "#purchases by name\n",
    "purchase_count_spender = spender_stats[\"Purchase ID\"].count()\n",
    "purchase_count_spender"
   ]
  },
  {
   "cell_type": "code",
   "execution_count": 27,
   "metadata": {},
   "outputs": [],
   "source": [
    "# Calculate purchase total \n",
    "purchase_total_spender = spender_stats[\"Price\"].sum()"
   ]
  },
  {
   "cell_type": "code",
   "execution_count": 28,
   "metadata": {},
   "outputs": [],
   "source": [
    "# Calculate the avg purchase by name \n",
    "avg_purchase_price_spender = spender_stats[\"Price\"].mean()"
   ]
  },
  {
   "cell_type": "code",
   "execution_count": 29,
   "metadata": {},
   "outputs": [
    {
     "data": {
      "text/html": [
       "<style  type=\"text/css\" >\n",
       "</style><table id=\"T_840e4aa6_aa10_11eb_bc20_0c5415c9b4df\" ><thead>    <tr>        <th class=\"blank level0\" ></th>        <th class=\"col_heading level0 col0\" >Purchase Count</th>        <th class=\"col_heading level0 col1\" >Average Purchase Price</th>        <th class=\"col_heading level0 col2\" >Total Purchase Value</th>    </tr>    <tr>        <th class=\"index_name level0\" >SN</th>        <th class=\"blank\" ></th>        <th class=\"blank\" ></th>        <th class=\"blank\" ></th>    </tr></thead><tbody>\n",
       "                <tr>\n",
       "                        <th id=\"T_840e4aa6_aa10_11eb_bc20_0c5415c9b4dflevel0_row0\" class=\"row_heading level0 row0\" >Lisosia93</th>\n",
       "                        <td id=\"T_840e4aa6_aa10_11eb_bc20_0c5415c9b4dfrow0_col0\" class=\"data row0 col0\" >5</td>\n",
       "                        <td id=\"T_840e4aa6_aa10_11eb_bc20_0c5415c9b4dfrow0_col1\" class=\"data row0 col1\" >$3.79</td>\n",
       "                        <td id=\"T_840e4aa6_aa10_11eb_bc20_0c5415c9b4dfrow0_col2\" class=\"data row0 col2\" >$18.96</td>\n",
       "            </tr>\n",
       "            <tr>\n",
       "                        <th id=\"T_840e4aa6_aa10_11eb_bc20_0c5415c9b4dflevel0_row1\" class=\"row_heading level0 row1\" >Idastidru52</th>\n",
       "                        <td id=\"T_840e4aa6_aa10_11eb_bc20_0c5415c9b4dfrow1_col0\" class=\"data row1 col0\" >4</td>\n",
       "                        <td id=\"T_840e4aa6_aa10_11eb_bc20_0c5415c9b4dfrow1_col1\" class=\"data row1 col1\" >$3.86</td>\n",
       "                        <td id=\"T_840e4aa6_aa10_11eb_bc20_0c5415c9b4dfrow1_col2\" class=\"data row1 col2\" >$15.45</td>\n",
       "            </tr>\n",
       "            <tr>\n",
       "                        <th id=\"T_840e4aa6_aa10_11eb_bc20_0c5415c9b4dflevel0_row2\" class=\"row_heading level0 row2\" >Chamjask73</th>\n",
       "                        <td id=\"T_840e4aa6_aa10_11eb_bc20_0c5415c9b4dfrow2_col0\" class=\"data row2 col0\" >3</td>\n",
       "                        <td id=\"T_840e4aa6_aa10_11eb_bc20_0c5415c9b4dfrow2_col1\" class=\"data row2 col1\" >$4.61</td>\n",
       "                        <td id=\"T_840e4aa6_aa10_11eb_bc20_0c5415c9b4dfrow2_col2\" class=\"data row2 col2\" >$13.83</td>\n",
       "            </tr>\n",
       "            <tr>\n",
       "                        <th id=\"T_840e4aa6_aa10_11eb_bc20_0c5415c9b4dflevel0_row3\" class=\"row_heading level0 row3\" >Iral74</th>\n",
       "                        <td id=\"T_840e4aa6_aa10_11eb_bc20_0c5415c9b4dfrow3_col0\" class=\"data row3 col0\" >4</td>\n",
       "                        <td id=\"T_840e4aa6_aa10_11eb_bc20_0c5415c9b4dfrow3_col1\" class=\"data row3 col1\" >$3.40</td>\n",
       "                        <td id=\"T_840e4aa6_aa10_11eb_bc20_0c5415c9b4dfrow3_col2\" class=\"data row3 col2\" >$13.62</td>\n",
       "            </tr>\n",
       "            <tr>\n",
       "                        <th id=\"T_840e4aa6_aa10_11eb_bc20_0c5415c9b4dflevel0_row4\" class=\"row_heading level0 row4\" >Iskadarya95</th>\n",
       "                        <td id=\"T_840e4aa6_aa10_11eb_bc20_0c5415c9b4dfrow4_col0\" class=\"data row4 col0\" >3</td>\n",
       "                        <td id=\"T_840e4aa6_aa10_11eb_bc20_0c5415c9b4dfrow4_col1\" class=\"data row4 col1\" >$4.37</td>\n",
       "                        <td id=\"T_840e4aa6_aa10_11eb_bc20_0c5415c9b4dfrow4_col2\" class=\"data row4 col2\" >$13.10</td>\n",
       "            </tr>\n",
       "    </tbody></table>"
      ],
      "text/plain": [
       "<pandas.io.formats.style.Styler at 0x1dcecc8d9d0>"
      ]
     },
     "execution_count": 29,
     "metadata": {},
     "output_type": "execute_result"
    }
   ],
   "source": [
    "# Create data frame with obtained values\n",
    "top_spenders = pd.DataFrame({\"Purchase Count\": purchase_count_spender,\n",
    "                             \"Average Purchase Price\": avg_purchase_price_spender,\n",
    "                             \"Total Purchase Value\":purchase_total_spender})\n",
    "\n",
    "# Sort in descending order to obtain top 5 spender names \n",
    "format_spenders = top_spenders.sort_values([\"Total Purchase Value\"], ascending=False).head()\n",
    "\n",
    "# Format with currency style\n",
    "format_spenders.style.format({\"Average Purchase Total\":\"${:,.2f}\",\n",
    "                                 \"Average Purchase Price\":\"${:,.2f}\", \n",
    "                                 \"Total Purchase Value\":\"${:,.2f}\"})"
   ]
  },
  {
   "cell_type": "code",
   "execution_count": 30,
   "metadata": {},
   "outputs": [],
   "source": [
    "\n",
    "#      Most Popular Items \n"
   ]
  },
  {
   "cell_type": "code",
   "execution_count": 31,
   "metadata": {},
   "outputs": [
    {
     "data": {
      "text/html": [
       "<style  type=\"text/css\" >\n",
       "</style><table id=\"T_84257b04_aa10_11eb_86a9_0c5415c9b4df\" ><thead>    <tr>        <th class=\"blank\" ></th>        <th class=\"blank level0\" ></th>        <th class=\"col_heading level0 col0\" >Purchase Count</th>        <th class=\"col_heading level0 col1\" >Item Price</th>        <th class=\"col_heading level0 col2\" >Total Purchase Value</th>    </tr>    <tr>        <th class=\"index_name level0\" >Item ID</th>        <th class=\"index_name level1\" >Item Name</th>        <th class=\"blank\" ></th>        <th class=\"blank\" ></th>        <th class=\"blank\" ></th>    </tr></thead><tbody>\n",
       "                <tr>\n",
       "                        <th id=\"T_84257b04_aa10_11eb_86a9_0c5415c9b4dflevel0_row0\" class=\"row_heading level0 row0\" >92</th>\n",
       "                        <th id=\"T_84257b04_aa10_11eb_86a9_0c5415c9b4dflevel1_row0\" class=\"row_heading level1 row0\" >Final Critic</th>\n",
       "                        <td id=\"T_84257b04_aa10_11eb_86a9_0c5415c9b4dfrow0_col0\" class=\"data row0 col0\" >13</td>\n",
       "                        <td id=\"T_84257b04_aa10_11eb_86a9_0c5415c9b4dfrow0_col1\" class=\"data row0 col1\" >$4.61</td>\n",
       "                        <td id=\"T_84257b04_aa10_11eb_86a9_0c5415c9b4dfrow0_col2\" class=\"data row0 col2\" >$59.99</td>\n",
       "            </tr>\n",
       "            <tr>\n",
       "                        <th id=\"T_84257b04_aa10_11eb_86a9_0c5415c9b4dflevel0_row1\" class=\"row_heading level0 row1\" >178</th>\n",
       "                        <th id=\"T_84257b04_aa10_11eb_86a9_0c5415c9b4dflevel1_row1\" class=\"row_heading level1 row1\" >Oathbreaker, Last Hope of the Breaking Storm</th>\n",
       "                        <td id=\"T_84257b04_aa10_11eb_86a9_0c5415c9b4dfrow1_col0\" class=\"data row1 col0\" >12</td>\n",
       "                        <td id=\"T_84257b04_aa10_11eb_86a9_0c5415c9b4dfrow1_col1\" class=\"data row1 col1\" >$4.23</td>\n",
       "                        <td id=\"T_84257b04_aa10_11eb_86a9_0c5415c9b4dfrow1_col2\" class=\"data row1 col2\" >$50.76</td>\n",
       "            </tr>\n",
       "            <tr>\n",
       "                        <th id=\"T_84257b04_aa10_11eb_86a9_0c5415c9b4dflevel0_row2\" class=\"row_heading level0 row2\" >145</th>\n",
       "                        <th id=\"T_84257b04_aa10_11eb_86a9_0c5415c9b4dflevel1_row2\" class=\"row_heading level1 row2\" >Fiery Glass Crusader</th>\n",
       "                        <td id=\"T_84257b04_aa10_11eb_86a9_0c5415c9b4dfrow2_col0\" class=\"data row2 col0\" >9</td>\n",
       "                        <td id=\"T_84257b04_aa10_11eb_86a9_0c5415c9b4dfrow2_col1\" class=\"data row2 col1\" >$4.58</td>\n",
       "                        <td id=\"T_84257b04_aa10_11eb_86a9_0c5415c9b4dfrow2_col2\" class=\"data row2 col2\" >$41.22</td>\n",
       "            </tr>\n",
       "            <tr>\n",
       "                        <th id=\"T_84257b04_aa10_11eb_86a9_0c5415c9b4dflevel0_row3\" class=\"row_heading level0 row3\" >132</th>\n",
       "                        <th id=\"T_84257b04_aa10_11eb_86a9_0c5415c9b4dflevel1_row3\" class=\"row_heading level1 row3\" >Persuasion</th>\n",
       "                        <td id=\"T_84257b04_aa10_11eb_86a9_0c5415c9b4dfrow3_col0\" class=\"data row3 col0\" >9</td>\n",
       "                        <td id=\"T_84257b04_aa10_11eb_86a9_0c5415c9b4dfrow3_col1\" class=\"data row3 col1\" >$3.22</td>\n",
       "                        <td id=\"T_84257b04_aa10_11eb_86a9_0c5415c9b4dfrow3_col2\" class=\"data row3 col2\" >$28.99</td>\n",
       "            </tr>\n",
       "            <tr>\n",
       "                        <th id=\"T_84257b04_aa10_11eb_86a9_0c5415c9b4dflevel0_row4\" class=\"row_heading level0 row4\" >108</th>\n",
       "                        <th id=\"T_84257b04_aa10_11eb_86a9_0c5415c9b4dflevel1_row4\" class=\"row_heading level1 row4\" >Extraction, Quickblade Of Trembling Hands</th>\n",
       "                        <td id=\"T_84257b04_aa10_11eb_86a9_0c5415c9b4dfrow4_col0\" class=\"data row4 col0\" >9</td>\n",
       "                        <td id=\"T_84257b04_aa10_11eb_86a9_0c5415c9b4dfrow4_col1\" class=\"data row4 col1\" >$3.53</td>\n",
       "                        <td id=\"T_84257b04_aa10_11eb_86a9_0c5415c9b4dfrow4_col2\" class=\"data row4 col2\" >$31.77</td>\n",
       "            </tr>\n",
       "    </tbody></table>"
      ],
      "text/plain": [
       "<pandas.io.formats.style.Styler at 0x1dceff27730>"
      ]
     },
     "execution_count": 31,
     "metadata": {},
     "output_type": "execute_result"
    }
   ],
   "source": [
    "# Create new data frame with items related information \n",
    "items = purchase_df[[\"Item ID\", \"Item Name\", \"Price\"]]\n",
    "\n",
    "# Group the item data by item id and item name \n",
    "item_stats = items.groupby([\"Item ID\",\"Item Name\"])\n",
    "\n",
    "# Count the number of times an item has been purchased \n",
    "purchase_count_item = item_stats[\"Price\"].count()\n",
    "\n",
    "# Calcualte the purchase value per item \n",
    "purchase_value = (item_stats[\"Price\"].sum()) \n",
    "\n",
    "# Find individual item price\n",
    "item_price = purchase_value/purchase_count_item\n",
    "\n",
    "# Create data frame with obtained values\n",
    "most_popular_items = pd.DataFrame({\"Purchase Count\": purchase_count_item, \n",
    "                                   \"Item Price\": item_price,\n",
    "                                   \"Total Purchase Value\":purchase_value})\n",
    "\n",
    "# Sort in descending order to obtain top spender names and provide top 5 item names\n",
    "popular_formatted = most_popular_items.sort_values([\"Purchase Count\"], ascending=False).head()\n",
    "\n",
    "# Format with currency style\n",
    "popular_formatted.style.format({\"Item Price\":\"${:,.2f}\",\n",
    "                                \"Total Purchase Value\":\"${:,.2f}\"})"
   ]
  },
  {
   "cell_type": "code",
   "execution_count": 32,
   "metadata": {},
   "outputs": [],
   "source": [
    "#Most Profitable Items"
   ]
  },
  {
   "cell_type": "code",
   "execution_count": 33,
   "metadata": {},
   "outputs": [
    {
     "data": {
      "text/html": [
       "<style  type=\"text/css\" >\n",
       "</style><table id=\"T_843d33ed_aa10_11eb_91e9_0c5415c9b4df\" ><thead>    <tr>        <th class=\"blank\" ></th>        <th class=\"blank level0\" ></th>        <th class=\"col_heading level0 col0\" >Purchase Count</th>        <th class=\"col_heading level0 col1\" >Item Price</th>        <th class=\"col_heading level0 col2\" >Total Purchase Value</th>    </tr>    <tr>        <th class=\"index_name level0\" >Item ID</th>        <th class=\"index_name level1\" >Item Name</th>        <th class=\"blank\" ></th>        <th class=\"blank\" ></th>        <th class=\"blank\" ></th>    </tr></thead><tbody>\n",
       "                <tr>\n",
       "                        <th id=\"T_843d33ed_aa10_11eb_91e9_0c5415c9b4dflevel0_row0\" class=\"row_heading level0 row0\" >92</th>\n",
       "                        <th id=\"T_843d33ed_aa10_11eb_91e9_0c5415c9b4dflevel1_row0\" class=\"row_heading level1 row0\" >Final Critic</th>\n",
       "                        <td id=\"T_843d33ed_aa10_11eb_91e9_0c5415c9b4dfrow0_col0\" class=\"data row0 col0\" >13</td>\n",
       "                        <td id=\"T_843d33ed_aa10_11eb_91e9_0c5415c9b4dfrow0_col1\" class=\"data row0 col1\" >$4.61</td>\n",
       "                        <td id=\"T_843d33ed_aa10_11eb_91e9_0c5415c9b4dfrow0_col2\" class=\"data row0 col2\" >$59.99</td>\n",
       "            </tr>\n",
       "            <tr>\n",
       "                        <th id=\"T_843d33ed_aa10_11eb_91e9_0c5415c9b4dflevel0_row1\" class=\"row_heading level0 row1\" >178</th>\n",
       "                        <th id=\"T_843d33ed_aa10_11eb_91e9_0c5415c9b4dflevel1_row1\" class=\"row_heading level1 row1\" >Oathbreaker, Last Hope of the Breaking Storm</th>\n",
       "                        <td id=\"T_843d33ed_aa10_11eb_91e9_0c5415c9b4dfrow1_col0\" class=\"data row1 col0\" >12</td>\n",
       "                        <td id=\"T_843d33ed_aa10_11eb_91e9_0c5415c9b4dfrow1_col1\" class=\"data row1 col1\" >$4.23</td>\n",
       "                        <td id=\"T_843d33ed_aa10_11eb_91e9_0c5415c9b4dfrow1_col2\" class=\"data row1 col2\" >$50.76</td>\n",
       "            </tr>\n",
       "            <tr>\n",
       "                        <th id=\"T_843d33ed_aa10_11eb_91e9_0c5415c9b4dflevel0_row2\" class=\"row_heading level0 row2\" >82</th>\n",
       "                        <th id=\"T_843d33ed_aa10_11eb_91e9_0c5415c9b4dflevel1_row2\" class=\"row_heading level1 row2\" >Nirvana</th>\n",
       "                        <td id=\"T_843d33ed_aa10_11eb_91e9_0c5415c9b4dfrow2_col0\" class=\"data row2 col0\" >9</td>\n",
       "                        <td id=\"T_843d33ed_aa10_11eb_91e9_0c5415c9b4dfrow2_col1\" class=\"data row2 col1\" >$4.90</td>\n",
       "                        <td id=\"T_843d33ed_aa10_11eb_91e9_0c5415c9b4dfrow2_col2\" class=\"data row2 col2\" >$44.10</td>\n",
       "            </tr>\n",
       "            <tr>\n",
       "                        <th id=\"T_843d33ed_aa10_11eb_91e9_0c5415c9b4dflevel0_row3\" class=\"row_heading level0 row3\" >145</th>\n",
       "                        <th id=\"T_843d33ed_aa10_11eb_91e9_0c5415c9b4dflevel1_row3\" class=\"row_heading level1 row3\" >Fiery Glass Crusader</th>\n",
       "                        <td id=\"T_843d33ed_aa10_11eb_91e9_0c5415c9b4dfrow3_col0\" class=\"data row3 col0\" >9</td>\n",
       "                        <td id=\"T_843d33ed_aa10_11eb_91e9_0c5415c9b4dfrow3_col1\" class=\"data row3 col1\" >$4.58</td>\n",
       "                        <td id=\"T_843d33ed_aa10_11eb_91e9_0c5415c9b4dfrow3_col2\" class=\"data row3 col2\" >$41.22</td>\n",
       "            </tr>\n",
       "            <tr>\n",
       "                        <th id=\"T_843d33ed_aa10_11eb_91e9_0c5415c9b4dflevel0_row4\" class=\"row_heading level0 row4\" >103</th>\n",
       "                        <th id=\"T_843d33ed_aa10_11eb_91e9_0c5415c9b4dflevel1_row4\" class=\"row_heading level1 row4\" >Singed Scalpel</th>\n",
       "                        <td id=\"T_843d33ed_aa10_11eb_91e9_0c5415c9b4dfrow4_col0\" class=\"data row4 col0\" >8</td>\n",
       "                        <td id=\"T_843d33ed_aa10_11eb_91e9_0c5415c9b4dfrow4_col1\" class=\"data row4 col1\" >$4.35</td>\n",
       "                        <td id=\"T_843d33ed_aa10_11eb_91e9_0c5415c9b4dfrow4_col2\" class=\"data row4 col2\" >$34.80</td>\n",
       "            </tr>\n",
       "    </tbody></table>"
      ],
      "text/plain": [
       "<pandas.io.formats.style.Styler at 0x1dceff0c430>"
      ]
     },
     "execution_count": 33,
     "metadata": {},
     "output_type": "execute_result"
    }
   ],
   "source": [
    "#most popular dataframes and sort\n",
    "popular_formatted = most_popular_items.sort_values([\"Total Purchase Value\"], ascending=False).head()\n",
    "\n",
    "# Format with currency style\n",
    "popular_formatted.style.format({\"Item Price\":\"${:,.2f}\",\n",
    "                                \"Total Purchase Value\":\"${:,.2f}\"})"
   ]
  },
  {
   "cell_type": "code",
   "execution_count": null,
   "metadata": {},
   "outputs": [],
   "source": []
  }
 ],
 "metadata": {
  "kernelspec": {
   "display_name": "Python 3",
   "language": "python",
   "name": "python3"
  },
  "language_info": {
   "codemirror_mode": {
    "name": "ipython",
    "version": 3
   },
   "file_extension": ".py",
   "mimetype": "text/x-python",
   "name": "python",
   "nbconvert_exporter": "python",
   "pygments_lexer": "ipython3",
   "version": "3.8.5"
  }
 },
 "nbformat": 4,
 "nbformat_minor": 4
}
